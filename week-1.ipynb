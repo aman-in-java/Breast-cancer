{
 "cells": [
  {
   "cell_type": "markdown",
   "metadata": {},
   "source": [
    "Q1: Print consecutive numbers in a 6x3 matrix."
   ]
  },
  {
   "cell_type": "code",
   "execution_count": 2,
   "metadata": {},
   "outputs": [
    {
     "name": "stdout",
     "output_type": "stream",
     "text": [
      "arr1:[[ 0  1  2  3  4  5]\n",
      " [ 6  7  8  9 10 11]\n",
      " [12 13 14 15 16 17]]\n"
     ]
    }
   ],
   "source": [
    "import numpy as np\n",
    "\n",
    "arr1 = np.arange(18).reshape(3, 6)\n",
    "print(\"arr1:{}\".format(arr1))"
   ]
  },
  {
   "cell_type": "markdown",
   "metadata": {},
   "source": [
    "Q2: Rename all the columns in the dataset as per your wish and save it in another dataframe and name it df2"
   ]
  },
  {
   "cell_type": "code",
   "execution_count": 3,
   "metadata": {},
   "outputs": [
    {
     "name": "stdout",
     "output_type": "stream",
     "text": [
      "  Name_new  IncomePerMonth      State_new  Age_new Sex_new  Siblings\n",
      "0        A              50     Tamil Nadu       23       M         0\n",
      "1        B              34      Karnataka       37       F         3\n",
      "2        C              54     Tamil Nadu       35       F         1\n",
      "3        D              24  Uttar Pradesh       26       F         4\n",
      "4        E              19          Bihar       59       M         5\n"
     ]
    }
   ],
   "source": [
    "import pandas as pd\n",
    "\n",
    "dataframe = pd.read_csv(\"dat/week-1.csv\")\n",
    "df = pd.DataFrame(dataframe)\n",
    "df2 = df.rename(columns={\"Name\": \"Name_new\"\n",
    "    , \"Income per month\": \"IncomePerMonth\"\n",
    "    , \"State\": \"State_new\"\n",
    "    , \"Age\": \"Age_new\"\n",
    "    , \"Sex\": \"Sex_new\"\n",
    "    , \"Number of siblings\": \"Siblings\"})\n",
    "\n",
    "print(df2.head())"
   ]
  },
  {
   "cell_type": "markdown",
   "metadata": {},
   "source": [
    "Q3: After you have created df2, make the same changes in the original dataframe using the inplace"
   ]
  },
  {
   "cell_type": "code",
   "execution_count": 4,
   "metadata": {},
   "outputs": [
    {
     "name": "stdout",
     "output_type": "stream",
     "text": [
      "  Name_new  IncomePerMonth      State_new  Age_new Sex_new  Siblings\n",
      "0        A              50     Tamil Nadu       23       M         0\n",
      "1        B              34      Karnataka       37       F         3\n",
      "2        C              54     Tamil Nadu       35       F         1\n",
      "3        D              24  Uttar Pradesh       26       F         4\n",
      "4        E              19          Bihar       59       M         5\n"
     ]
    }
   ],
   "source": [
    "df.rename(columns={\"Name\": \"Name_new\"\n",
    "    , \"Income per month\": \"IncomePerMonth\"\n",
    "    , \"State\": \"State_new\"\n",
    "    , \"Age\": \"Age_new\"\n",
    "    , \"Sex\": \"Sex_new\"\n",
    "    , \"Number of siblings\": \"Siblings\"}, inplace=True)\n",
    "\n",
    "print(df.head())\n"
   ]
  },
  {
   "cell_type": "markdown",
   "metadata": {},
   "source": [
    "Q4: Show only the columns information, sex and number of siblings."
   ]
  },
  {
   "cell_type": "code",
   "execution_count": 5,
   "metadata": {},
   "outputs": [
    {
     "name": "stdout",
     "output_type": "stream",
     "text": [
      "  Sex_new  Siblings\n",
      "0       M         0\n",
      "1       F         3\n",
      "2       F         1\n",
      "3       F         4\n",
      "4       M         5\n",
      "5       M         6\n",
      "6       F         2\n",
      "7       M        10\n",
      "8       F         0\n",
      "9       M         7\n"
     ]
    }
   ],
   "source": [
    "print(df[[\"Sex_new\",\"Siblings\"]])"
   ]
  },
  {
   "cell_type": "markdown",
   "metadata": {},
   "source": [
    "Q5: Use iloc method to print data from column 1 to 4 and rows 3 to 9"
   ]
  },
  {
   "cell_type": "code",
   "execution_count": 6,
   "metadata": {},
   "outputs": [
    {
     "name": "stdout",
     "output_type": "stream",
     "text": [
      "  Name_new  IncomePerMonth      State_new  Age_new\n",
      "2        C              54     Tamil Nadu       35\n",
      "3        D              24  Uttar Pradesh       26\n",
      "4        E              19          Bihar       59\n",
      "5        F              21          Bihar       48\n",
      "6        G              40          Delhi       30\n",
      "7        H              20  Uttar Pradesh       72\n",
      "8        I              30      Telangana       22\n"
     ]
    }
   ],
   "source": [
    "print(df.iloc[2:9, 0:4])"
   ]
  },
  {
   "cell_type": "markdown",
   "metadata": {},
   "source": [
    "Q6: Find the total value count of number of siblings in the given dataset"
   ]
  },
  {
   "cell_type": "code",
   "execution_count": 7,
   "metadata": {},
   "outputs": [
    {
     "name": "stdout",
     "output_type": "stream",
     "text": [
      "0     2\n",
      "10    1\n",
      "7     1\n",
      "6     1\n",
      "5     1\n",
      "4     1\n",
      "3     1\n",
      "2     1\n",
      "1     1\n",
      "Name: Siblings, dtype: int64\n"
     ]
    }
   ],
   "source": [
    "print(df[\"Siblings\"].value_counts())"
   ]
  },
  {
   "cell_type": "markdown",
   "metadata": {},
   "source": [
    "Q7: What are dependent and independent variables in our dataset?"
   ]
  },
  {
   "cell_type": "code",
   "execution_count": 8,
   "metadata": {},
   "outputs": [
    {
     "data": {
      "text/plain": [
       "<seaborn.axisgrid.PairGrid at 0x5d9c7d0>"
      ]
     },
     "execution_count": 8,
     "metadata": {},
     "output_type": "execute_result"
    },
    {
     "data": {
      "image/png": "[encoded data removed]",
      "text/plain": [
       "<Figure size 540x540 with 12 Axes>"
      ]
     },
     "metadata": {
      "needs_background": "light"
     },
     "output_type": "display_data"
    }
   ],
   "source": [
    "import seaborn as sns\n",
    "sns.pairplot(dataframe)"
   ]
  },
  {
   "cell_type": "code",
   "execution_count": 9,
   "metadata": {},
   "outputs": [
    {
     "data": {
      "text/html": [
       "<div>\n",
       "<style scoped>\n",
       "    .dataframe tbody tr th:only-of-type {\n",
       "        vertical-align: middle;\n",
       "    }\n",
       "\n",
       "    .dataframe tbody tr th {\n",
       "        vertical-align: top;\n",
       "    }\n",
       "\n",
       "    .dataframe thead th {\n",
       "        text-align: right;\n",
       "    }\n",
       "</style>\n",
       "<table border=\"1\" class=\"dataframe\">\n",
       "  <thead>\n",
       "    <tr style=\"text-align: right;\">\n",
       "      <th></th>\n",
       "      <th>IncomePerMonth</th>\n",
       "      <th>Age_new</th>\n",
       "      <th>Siblings</th>\n",
       "    </tr>\n",
       "  </thead>\n",
       "  <tbody>\n",
       "    <tr>\n",
       "      <th>IncomePerMonth</th>\n",
       "      <td>1.000000</td>\n",
       "      <td>-0.572285</td>\n",
       "      <td>-0.773257</td>\n",
       "    </tr>\n",
       "    <tr>\n",
       "      <th>Age_new</th>\n",
       "      <td>-0.572285</td>\n",
       "      <td>1.000000</td>\n",
       "      <td>0.856892</td>\n",
       "    </tr>\n",
       "    <tr>\n",
       "      <th>Siblings</th>\n",
       "      <td>-0.773257</td>\n",
       "      <td>0.856892</td>\n",
       "      <td>1.000000</td>\n",
       "    </tr>\n",
       "  </tbody>\n",
       "</table>\n",
       "</div>"
      ],
      "text/plain": [
       "                IncomePerMonth   Age_new  Siblings\n",
       "IncomePerMonth        1.000000 -0.572285 -0.773257\n",
       "Age_new              -0.572285  1.000000  0.856892\n",
       "Siblings             -0.773257  0.856892  1.000000"
      ]
     },
     "execution_count": 9,
     "metadata": {},
     "output_type": "execute_result"
    }
   ],
   "source": [
    "df.corr(method=\"pearson\")"
   ]
  },
  {
   "cell_type": "markdown",
   "metadata": {},
   "source": [
    "By looking at the above matrix and graphs, we can conclude the following:\n",
    "1. \"Age\" and \"Income per Month\" are negatively correlated, that is, as the \"Age\" increases the \"Income per Month\" decreases.\n",
    "2. \"Income per Month\" and \"Number of Siblings\" are negatively correlated, that is, as the \"Income per Month increases\", the \"Number of siblings\" decreases.\n",
    "3. \"Age\" and \"Number of Siblings\" are positively correlated, that is, as the \"Age\" increases, the \"Number of Siblings\" also increases.\n",
    "\n",
    "Before finding independent and dependent variables, we first need to understand the independent and dependent variables.\n",
    "\n",
    "Independent variable: What the scientist changes or what changes on its own.\n",
    "Dependent variable: What is being studied/measured.\n",
    "\n",
    "The dependent and independent variable depends on the objective of the problem.\n",
    "\n",
    "In our case, We have \"Name\", \"Income per Month\", \"State\", \"Age\", \"Sex\", \"Number of Siblings\".\n",
    "\n",
    "For Example: \n",
    "\n",
    "If we need to study the \"Income per Month\" of person based on the \"Name\", \"State\", \"Number of Siblings\", \"Age\" and \"Sex\", then in such a case the \"Income per Month\" will become the dependent variable and rest are independent variable.\n",
    "whereas,\n",
    "If we need to study the \"Number of Siblings\" of person based on the \"Name\", \"State\", \"Income per Month\", \"Age\" and \"Sex\", then in such a case the \"Income per Month\" will become the dependent variable and rest are independent variable.\n",
    "\n",
    "The above correlation matrix shows such relation of one variable on another variable."
   ]
  },
  {
   "cell_type": "markdown",
   "metadata": {},
   "source": [
    "Q:8 - Mention all your finding from the above given heatmap"
   ]
  },
  {
   "cell_type": "code",
   "execution_count": 10,
   "metadata": {},
   "outputs": [
    {
     "data": {
      "text/plain": [
       "<matplotlib.axes._subplots.AxesSubplot at 0xe8a6830>"
      ]
     },
     "execution_count": 10,
     "metadata": {},
     "output_type": "execute_result"
    },
    {
     "data": {
      "image/png": "[encoded data removed]",
      "text/plain": [
       "<Figure size 432x288 with 2 Axes>"
      ]
     },
     "metadata": {
      "needs_background": "light"
     },
     "output_type": "display_data"
    }
   ],
   "source": [
    "sns.heatmap(df.corr(), annot=True,fmt=\"0.0%\")"
   ]
  },
  {
   "cell_type": "markdown",
   "metadata": {},
   "source": [
    "The above heatmap shows the heatmap of correlation matrix of the given dataset.\n",
    "\n",
    "The heatmap shows how strongly or weakly two vraiables are related to each other.\n",
    "\n",
    "1. \"Income\" and \"Age\" are negativly and weakly related, that is, how \"Income\" will decrease, as the \"Age\" increase.\n",
    "2. \"Income\" and \"Siblings\" are negativly but strongly related, that is, how \"Income\" will decrease, as the \"Number of Siblings\" increase.\n",
    "3. \"Age\" and \"Siblings\" are positively and strongly related, that is, how \"Age\" will increase, as the \"Number of Siblings\" increase. We can see this in graph, that the correlation is pretty high (86%)."
   ]
  },
  {
   "cell_type": "code",
   "execution_count": null,
   "metadata": {},
   "outputs": [],
   "source": []
  }
 ],
 "metadata": {
  "kernelspec": {
   "display_name": "Python 3",
   "language": "python",
   "name": "python3"
  },
  "language_info": {
   "codemirror_mode": {
    "name": "ipython",
    "version": 3
   },
   "file_extension": ".py",
   "mimetype": "text/x-python",
   "name": "python",
   "nbconvert_exporter": "python",
   "pygments_lexer": "ipython3",
   "version": "3.7.3"
  }
 },
 "nbformat": 4,
 "nbformat_minor": 4
}
